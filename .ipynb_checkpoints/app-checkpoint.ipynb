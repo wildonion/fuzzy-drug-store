{
 "cells": [
  {
   "cell_type": "code",
   "execution_count": 61,
   "metadata": {},
   "outputs": [],
   "source": [
    "import matplotlib.pyplot as plt\n",
    "import numpy as np\n",
    "from db import init\n",
    "from sklearn.preprocessing import MinMaxScaler"
   ]
  },
  {
   "cell_type": "code",
   "execution_count": 30,
   "metadata": {},
   "outputs": [
    {
     "data": {
      "text/plain": [
       "[(0, 'cit_0', 66),\n",
       " (1, 'cit_1', 63),\n",
       " (2, 'cit_2', 60),\n",
       " (3, 'cit_3', 66),\n",
       " (4, 'cit_4', 58),\n",
       " (5, 'cit_5', 82),\n",
       " (6, 'cit_6', 64),\n",
       " (7, 'cit_7', 70),\n",
       " (8, 'cit_8', 24),\n",
       " (9, 'cit_9', 19),\n",
       " (10, 'cit_10', 40),\n",
       " (11, 'cit_11', 0),\n",
       " (12, 'cit_12', 36),\n",
       " (13, 'cit_13', 43),\n",
       " (14, 'cit_14', 68),\n",
       " (15, 'cit_15', 13),\n",
       " (16, 'cit_16', 65),\n",
       " (17, 'cit_17', 23),\n",
       " (18, 'cit_18', 28),\n",
       " (19, 'cit_19', 16),\n",
       " (20, 'cit_20', 71),\n",
       " (21, 'cit_21', 29),\n",
       " (22, 'cit_22', 62),\n",
       " (23, 'cit_23', 80),\n",
       " (24, 'cit_24', 1),\n",
       " (25, 'cit_25', 29),\n",
       " (26, 'cit_26', 64),\n",
       " (27, 'cit_27', 70),\n",
       " (28, 'cit_28', 17),\n",
       " (29, 'cit_29', 79),\n",
       " (30, 'cit_30', 13),\n",
       " (31, 'cit_31', 54),\n",
       " (32, 'cit_32', 98),\n",
       " (33, 'cit_33', 81),\n",
       " (34, 'cit_34', 99),\n",
       " (35, 'cit_35', 80),\n",
       " (36, 'cit_36', 61),\n",
       " (37, 'cit_37', 61),\n",
       " (38, 'cit_38', 20),\n",
       " (39, 'cit_39', 67),\n",
       " (40, 'cit_40', 48),\n",
       " (41, 'cit_41', 68),\n",
       " (42, 'cit_42', 58),\n",
       " (43, 'cit_43', 79),\n",
       " (44, 'cit_44', 32),\n",
       " (45, 'cit_45', 47),\n",
       " (46, 'cit_46', 66),\n",
       " (47, 'cit_47', 81),\n",
       " (48, 'cit_48', 93),\n",
       " (49, 'cit_49', 19)]"
      ]
     },
     "execution_count": 30,
     "metadata": {},
     "output_type": "execute_result"
    }
   ],
   "source": [
    "db = init()\n",
    "q = \"CREATE TABLE IF NOT EXISTS drugs_info (id int, name text, amount int)\"\n",
    "db.query(q,[])\n",
    "\n",
    "# for i in range(50):\n",
    "#     q = \"INSERT INTO drugs_info VALUES (?, ?, ?)\"\n",
    "#     v = [i, f'cit_{i}', np.random.randint(101)]\n",
    "#     db.query(q,v)\n",
    "\n",
    "q  = \"select * from drugs_info\"\n",
    "drugs = db.query(q,[])\n",
    "drugs.fetchall()"
   ]
  },
  {
   "cell_type": "code",
   "execution_count": 59,
   "metadata": {},
   "outputs": [],
   "source": [
    "\n",
    "# ------------------------------\n",
    "# membership function generator\n",
    "# ------------------------------\n",
    "\n",
    "\n",
    "# code from :\n",
    "# https://github.com/scikit-fuzzy/scikit-fuzzy/blob/eecf303b701e3efacdc9b9066207ef605d4facaa/skfuzzy/membership/generatemf.py#L414 \n",
    "\n",
    "\n",
    "def trimf(x, abc):\n",
    "    assert len(abc) == 3, 'abc parameter must have exactly three elements.'\n",
    "    a, b, c = np.r_[abc]     # Zero-indexing in Python\n",
    "    assert a <= b and b <= c, 'abc requires the three elements a <= b <= c.'\n",
    "\n",
    "    y = np.zeros(len(x))\n",
    "\n",
    "    # Left side\n",
    "    if a != b:\n",
    "        idx = np.nonzero(np.logical_and(a < x, x < b))[0]\n",
    "        y[idx] = (x[idx] - a) / float(b - a)\n",
    "\n",
    "    # Right side\n",
    "    if b != c:\n",
    "        idx = np.nonzero(np.logical_and(b < x, x < c))[0]\n",
    "        y[idx] = (c - x[idx]) / float(c - b)\n",
    "\n",
    "    idx = np.nonzero(x == b)\n",
    "    y[idx] = 1\n",
    "    return y"
   ]
  },
  {
   "cell_type": "code",
   "execution_count": 111,
   "metadata": {},
   "outputs": [
    {
     "name": "stdout",
     "output_type": "stream",
     "text": [
      "[0.45 0.46 0.47 0.48 0.49 0.5  0.51 0.52 0.53 0.54 0.55 0.56 0.57 0.58\n",
      " 0.59 0.6  0.61 0.62 0.63 0.64 0.65 0.66 0.67 0.68 0.69 0.7  0.71 0.72\n",
      " 0.73 0.74 0.75 0.76 0.77 0.78 0.79 0.8  0.81 0.82 0.83 0.84 0.85 0.86\n",
      " 0.87 0.88 0.89 0.9  0.91 0.92 0.93 0.94 0.95 0.96 0.97 0.98 0.99 1.  ]\n"
     ]
    }
   ],
   "source": [
    "\n",
    "# ------------------\n",
    "# normalizing ranges\n",
    "# ------------------\n",
    "\n",
    "scaler = MinMaxScaler()\n",
    "universe = scaler.fit_transform(np.arange(0, 101, 1).reshape(-1, 1)).reshape(1, -1)[0]\n",
    "\n",
    "\n",
    "print(universe[45:101])"
   ]
  },
  {
   "cell_type": "code",
   "execution_count": 118,
   "metadata": {},
   "outputs": [
    {
     "data": {
      "text/plain": [
       "[<matplotlib.lines.Line2D at 0x7f7cc0f3aa00>]"
      ]
     },
     "execution_count": 118,
     "metadata": {},
     "output_type": "execute_result"
    },
    {
     "data": {
      "image/png": "[encoded data removed]",
      "text/plain": [
       "<Figure size 432x288 with 1 Axes>"
      ]
     },
     "metadata": {
      "needs_background": "light"
     },
     "output_type": "display_data"
    }
   ],
   "source": [
    "\n",
    "# --------------------------\n",
    "# Antecedent - current drugs\n",
    "# --------------------------\n",
    "\n",
    "X = {\"low\": None, \"medium\": None, \"high\": None}\n",
    "\n",
    "X_ranges = [\n",
    "                {\"universe\": universe[0:36], \"mf\": None},  # low\n",
    "                {\"universe\": universe[30:51], \"mf\": None}, # medium\n",
    "                {\"universe\": universe[45:101], \"mf\": None} # high\n",
    "           ]\n",
    "\n",
    "\n",
    "# generating membership functions\n",
    "X_ranges[0][\"mf\"] = trimf(X_ranges[0][\"universe\"], [0, 0, 50]) # generating mf for low fuzzy set\n",
    "X_ranges[1][\"mf\"] = trimf(X_ranges[1][\"universe\"], [0, 50, 100]) # generating mf for medium fuzzy set\n",
    "X_ranges[2][\"mf\"] = trimf(X_ranges[2][\"universe\"], [50, 100, 100]) # generating mf for high fuzzy set\n",
    "\n",
    "\n",
    "\n",
    "X[\"low\"]    = X_ranges[0]\n",
    "X[\"medium\"] = X_ranges[1]\n",
    "X[\"high\"]   = X_ranges[2]\n",
    "\n",
    "\n",
    "\n",
    "plt.plot(X[\"low\"][\"universe\"], X[\"low\"][\"mf\"])\n"
   ]
  },
  {
   "cell_type": "code",
   "execution_count": 98,
   "metadata": {},
   "outputs": [],
   "source": [
    "\n",
    "# -------------------------------------------\n",
    "# Antecedent - drug sales over the past month\n",
    "# -------------------------------------------\n",
    "\n",
    "Y = {\"very_few\": None, \"few\": None, \"medium\": None, \"many\": None, \"alot\": None}\n",
    "\n",
    "Y_ranges = [\n",
    "                {\"universe\": universe[0:21], \"mf\": None},  # very_few\n",
    "                {\"universe\": universe[15:36], \"mf\": None}, # few\n",
    "                {\"universe\": universe[30:51], \"mf\": None}, # medium\n",
    "                {\"universe\": universe[45:66], \"mf\": None}, # many\n",
    "                {\"universe\": universe[60:101], \"mf\": None} # alot\n",
    "           ]\n",
    "\n",
    "\n",
    "\n",
    "\n",
    "# generating membership functions\n",
    "Y_ranges[0][\"mf\"] = trimf(Y_ranges[0][\"universe\"], [0, 0, 10]) # generating mf for very_few fuzzy set\n",
    "Y_ranges[1][\"mf\"] = trimf(Y_ranges[1][\"universe\"], [0, 10, 20]) # generating mf for few fuzzy set\n",
    "Y_ranges[2][\"mf\"] = trimf(Y_ranges[2][\"universe\"], [20, 30, 40]) # generating mf for medium fuzzy set\n",
    "Y_ranges[3][\"mf\"] = trimf(Y_ranges[3][\"universe\"], [40, 101, 101]) # generating mf for many fuzzy set\n",
    "Y_ranges[4][\"mf\"] = trimf(Y_ranges[4][\"universe\"], [51, 101, 101]) # generating mf for alot fuzzy set\n",
    "\n",
    "\n",
    "\n",
    "Y[\"very_few\"] = Y_ranges[0]\n",
    "Y[\"few\"]      = Y_ranges[1]\n",
    "Y[\"medium\"]   = Y_ranges[2]\n",
    "Y[\"many\"]     = Y_ranges[3]\n",
    "Y[\"alot\"]     = Y_ranges[4]\n",
    "\n"
   ]
  },
  {
   "cell_type": "code",
   "execution_count": null,
   "metadata": {},
   "outputs": [],
   "source": [
    "\n",
    "# -------------------------------------------------------------\n",
    "# Antecedent - drug sales over the past years in current season\n",
    "# -------------------------------------------------------------\n",
    "\n",
    "Z = {\"very_few\": None, \"few\": None, \"medium\": None, \"many\": None, \"alot\": None}\n",
    "\n",
    "Z_ranges = [\n",
    "                {\"universe\": universe[0:21], \"mf\": None},  # very_few\n",
    "                {\"universe\": universe[15:36], \"mf\": None}, # few\n",
    "                {\"universe\": universe[30:51], \"mf\": None}, # medium\n",
    "                {\"universe\": universe[45:66], \"mf\": None}, # many\n",
    "                {\"universe\": universe[60:101], \"mf\": None} # alot\n",
    "           ]\n",
    "\n",
    "\n",
    "\n",
    "\n",
    "# generating membership functions\n",
    "Z_ranges[0][\"mf\"] = trimf(Z_ranges[0][\"universe\"], [0, 0, 10]) # generating mf for very_few fuzzy set\n",
    "Z_ranges[1][\"mf\"] = trimf(Z_ranges[1][\"universe\"], [0, 10, 20]) # generating mf for few fuzzy set\n",
    "Z_ranges[2][\"mf\"] = trimf(Z_ranges[2][\"universe\"], [20, 30, 40]) # generating mf for medium fuzzy set\n",
    "Z_ranges[3][\"mf\"] = trimf(Z_ranges[3][\"universe\"], [40, 101, 101]) # generating mf for many fuzzy set\n",
    "Z_ranges[4][\"mf\"] = trimf(Z_ranges[4][\"universe\"], [51, 101, 101]) # generating mf for alot fuzzy set\n",
    "\n",
    "\n",
    "\n",
    "Z[\"very_few\"] = Z_ranges[0]\n",
    "Z[\"few\"]      = Z_ranges[1]\n",
    "Z[\"medium\"]   = Z_ranges[2]\n",
    "Z[\"many\"]     = Z_ranges[3]\n",
    "Z[\"alot\"]     = Z_ranges[4]\n"
   ]
  },
  {
   "cell_type": "code",
   "execution_count": 22,
   "metadata": {},
   "outputs": [],
   "source": [
    "# ----------------------------\n",
    "# Consequent - amount of order\n",
    "# ----------------------------\n",
    "\n",
    "W = {\"low\": None, \"medium\": None, \"high\": None}\n",
    "\n",
    "W_ranges = [\n",
    "                {\"universe\": universe[0:36], \"mf\": None},  # low\n",
    "                {\"universe\": universe[30:51], \"mf\": None}, # medium\n",
    "                {\"universe\": universe[45:101], \"mf\": None} # high\n",
    "           ]\n",
    "\n",
    "\n",
    "# generating membership functions\n",
    "W_ranges[0][\"mf\"] = trimf(W_ranges[0][\"universe\"], [0, 0, 50]) # generating mf for low fuzzy set\n",
    "W_ranges[1][\"mf\"] = trimf(W_ranges[1][\"universe\"], [0, 50, 100]) # generating mf for medium fuzzy set\n",
    "W_ranges[2][\"mf\"] = trimf(W_ranges[2][\"universe\"], [50, 100, 100]) # generating mf for high fuzzy set\n",
    "\n",
    "\n",
    "\n",
    "W[\"low\"]    = W_ranges[0]\n",
    "W[\"medium\"] = W_ranges[1]\n",
    "W[\"high\"]   = W_ranges[2]"
   ]
  },
  {
   "cell_type": "code",
   "execution_count": 23,
   "metadata": {},
   "outputs": [],
   "source": [
    "# -------------------\n",
    "# Plotting operations\n",
    "# -------------------\n",
    "# ..."
   ]
  },
  {
   "cell_type": "code",
   "execution_count": 119,
   "metadata": {},
   "outputs": [],
   "source": [
    "class Rule:\n",
    "    def __init__(self, left_c=None, operator=\"and\", right_c=None, _then=None):\n",
    "        self.left_c   = left_c\n",
    "        self.operator = operator\n",
    "        self.right_c  = right_c\n",
    "        self._then = _then\n",
    "        \n",
    "        "
   ]
  },
  {
   "cell_type": "code",
   "execution_count": 126,
   "metadata": {},
   "outputs": [],
   "source": [
    "# ---------------------------------\n",
    "# sales over the past month rules\n",
    "month_rules = []\n",
    "# ---------------------------------\n",
    "\n",
    "rules.append(Rule(left_c=Y[\"alot\"], operator=\"and\", right_c=X[\"low\"],    _then=\"high\"))\n",
    "rules.append(Rule(left_c=Y[\"alot\"], operator=\"and\", right_c=X[\"medium\"], _then=\"high\"))\n",
    "rules.append(Rule(left_c=Y[\"alot\"], operator=\"and\", right_c=X[\"high\"],   _then=\"high\"))\n",
    "\n",
    "rules.append(Rule(left_c=Y[\"many\"], operator=\"and\", right_c=X[\"low\"],    _then=\"high\"))\n",
    "rules.append(Rule(left_c=Y[\"many\"], operator=\"and\", right_c=X[\"medium\"], _then=\"high\"))\n",
    "rules.append(Rule(left_c=Y[\"many\"], operator=\"and\", right_c=X[\"high\"],   _then=\"medium\"))\n",
    "\n",
    "rules.append(Rule(left_c=Y[\"medium\"], operator=\"and\", right_c=X[\"low\"],    _then=\"high\"))\n",
    "rules.append(Rule(left_c=Y[\"medium\"], operator=\"and\", right_c=X[\"medium\"], _then=\"medium\"))\n",
    "rules.append(Rule(left_c=Y[\"medium\"], operator=\"and\", right_c=X[\"high\"],   _then=\"low\"))\n",
    "\n",
    "rules.append(Rule(left_c=Y[\"few\"], operator=\"and\", right_c=X[\"low\"],    _then=\"medium\"))\n",
    "rules.append(Rule(left_c=Y[\"few\"], operator=\"and\", right_c=X[\"medium\"], _then=\"low\"))\n",
    "rules.append(Rule(left_c=Y[\"few\"], operator=\"and\", right_c=X[\"high\"],   _then=\"low\"))\n",
    "\n",
    "rules.append(Rule(left_c=Y[\"very_few\"], operator=\"and\", right_c=X[\"low\"],    _then=\"low\"))\n",
    "rules.append(Rule(left_c=Y[\"very_few\"], operator=\"and\", right_c=X[\"medium\"], _then=\"low\"))\n",
    "rules.append(Rule(left_c=Y[\"very_few\"], operator=\"and\", right_c=X[\"high\"],   _then=\"low\"))\n",
    "\n"
   ]
  },
  {
   "cell_type": "code",
   "execution_count": 127,
   "metadata": {},
   "outputs": [],
   "source": [
    "# ---------------------------------------------------\n",
    "# Rules - sales over the past years in current season\n",
    "years_rules = []\n",
    "# ---------------------------------\n",
    "\n",
    "years_rules.append(Rule(left_c=Y[\"alot\"], operator=\"and\", right_c=X[\"low\"],    _then=\"high\"))\n",
    "years_rules.append(Rule(left_c=Y[\"alot\"], operator=\"and\", right_c=X[\"medium\"], _then=\"high\"))\n",
    "years_rules.append(Rule(left_c=Y[\"alot\"], operator=\"and\", right_c=X[\"high\"],   _then=\"high\"))\n",
    "\n",
    "years_rules.append(Rule(left_c=Y[\"many\"], operator=\"and\", right_c=X[\"low\"],    _then=\"high\"))\n",
    "years_rules.append(Rule(left_c=Y[\"many\"], operator=\"and\", right_c=X[\"medium\"], _then=\"high\"))\n",
    "years_rules.append(Rule(left_c=Y[\"many\"], operator=\"and\", right_c=X[\"high\"],   _then=\"medium\"))\n",
    "\n",
    "years_rules.append(Rule(left_c=Y[\"medium\"], operator=\"and\", right_c=X[\"low\"],    _then=\"high\"))\n",
    "years_rules.append(Rule(left_c=Y[\"medium\"], operator=\"and\", right_c=X[\"medium\"], _then=\"medium\"))\n",
    "years_rules.append(Rule(left_c=Y[\"medium\"], operator=\"and\", right_c=X[\"high\"],   _then=\"low\"))\n",
    "\n",
    "years_rules.append(Rule(left_c=Y[\"few\"], operator=\"and\", right_c=X[\"low\"],    _then=\"medium\"))\n",
    "years_rules.append(Rule(left_c=Y[\"few\"], operator=\"and\", right_c=X[\"medium\"], _then=\"low\"))\n",
    "years_rules.append(Rule(left_c=Y[\"few\"], operator=\"and\", right_c=X[\"high\"],   _then=\"low\"))\n",
    "\n",
    "years_rules.append(Rule(left_c=Y[\"very_few\"], operator=\"and\", right_c=X[\"low\"],    _then=\"low\"))\n",
    "years_rules.append(Rule(left_c=Y[\"very_few\"], operator=\"and\", right_c=X[\"medium\"], _then=\"low\"))\n",
    "years_rules.append(Rule(left_c=Y[\"very_few\"], operator=\"and\", right_c=X[\"high\"],   _then=\"low\"))\n",
    "\n"
   ]
  }
 ],
 "metadata": {
  "kernelspec": {
   "display_name": "Python 3",
   "language": "python",
   "name": "python3"
  },
  "language_info": {
   "codemirror_mode": {
    "name": "ipython",
    "version": 3
   },
   "file_extension": ".py",
   "mimetype": "text/x-python",
   "name": "python",
   "nbconvert_exporter": "python",
   "pygments_lexer": "ipython3",
   "version": "3.8.5"
  }
 },
 "nbformat": 4,
 "nbformat_minor": 4
}
