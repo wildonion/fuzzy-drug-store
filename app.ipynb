{
 "cells": [
  {
   "cell_type": "markdown",
   "metadata": {},
   "source": [
    "# **TODOs**\n",
    "\n",
    "* apply GA for best rules selection or membership function creation"
   ]
  },
  {
   "cell_type": "code",
   "execution_count": 23,
   "metadata": {},
   "outputs": [],
   "source": [
    "import matplotlib.pyplot as plt\n",
    "import numpy as np\n",
    "from db import init\n",
    "from sklearn.preprocessing import MinMaxScaler\n",
    "plt.style.use('ggplot')"
   ]
  },
  {
   "cell_type": "markdown",
   "metadata": {},
   "source": [
    "## **DB Ops**"
   ]
  },
  {
   "cell_type": "code",
   "execution_count": 2,
   "metadata": {
    "scrolled": true
   },
   "outputs": [
    {
     "data": {
      "text/plain": [
       "[(0, 'cit_0', 66),\n",
       " (1, 'cit_1', 63),\n",
       " (2, 'cit_2', 60),\n",
       " (3, 'cit_3', 66),\n",
       " (4, 'cit_4', 58),\n",
       " (5, 'cit_5', 82),\n",
       " (6, 'cit_6', 64),\n",
       " (7, 'cit_7', 70),\n",
       " (8, 'cit_8', 24),\n",
       " (9, 'cit_9', 19),\n",
       " (10, 'cit_10', 40),\n",
       " (11, 'cit_11', 0),\n",
       " (12, 'cit_12', 36),\n",
       " (13, 'cit_13', 43),\n",
       " (14, 'cit_14', 68),\n",
       " (15, 'cit_15', 13),\n",
       " (16, 'cit_16', 65),\n",
       " (17, 'cit_17', 23),\n",
       " (18, 'cit_18', 28),\n",
       " (19, 'cit_19', 16),\n",
       " (20, 'cit_20', 71),\n",
       " (21, 'cit_21', 29),\n",
       " (22, 'cit_22', 62),\n",
       " (23, 'cit_23', 80),\n",
       " (24, 'cit_24', 1),\n",
       " (25, 'cit_25', 29),\n",
       " (26, 'cit_26', 64),\n",
       " (27, 'cit_27', 70),\n",
       " (28, 'cit_28', 17),\n",
       " (29, 'cit_29', 79),\n",
       " (30, 'cit_30', 13),\n",
       " (31, 'cit_31', 54),\n",
       " (32, 'cit_32', 98),\n",
       " (33, 'cit_33', 81),\n",
       " (34, 'cit_34', 99),\n",
       " (35, 'cit_35', 80),\n",
       " (36, 'cit_36', 61),\n",
       " (37, 'cit_37', 61),\n",
       " (38, 'cit_38', 20),\n",
       " (39, 'cit_39', 67),\n",
       " (40, 'cit_40', 48),\n",
       " (41, 'cit_41', 68),\n",
       " (42, 'cit_42', 58),\n",
       " (43, 'cit_43', 79),\n",
       " (44, 'cit_44', 32),\n",
       " (45, 'cit_45', 47),\n",
       " (46, 'cit_46', 66),\n",
       " (47, 'cit_47', 81),\n",
       " (48, 'cit_48', 93),\n",
       " (49, 'cit_49', 19)]"
      ]
     },
     "execution_count": 2,
     "metadata": {},
     "output_type": "execute_result"
    }
   ],
   "source": [
    "db = init()\n",
    "q = \"CREATE TABLE IF NOT EXISTS drugs_info (id int, name text, amount int)\"\n",
    "db.query(q,[])\n",
    "\n",
    "# for i in range(50):\n",
    "#     q = \"INSERT INTO drugs_info VALUES (?, ?, ?)\"\n",
    "#     v = [i, f'cit_{i}', np.random.randint(101)]\n",
    "#     db.query(q,v)\n",
    "\n",
    "q  = \"select * from drugs_info\"\n",
    "drugs = db.query(q,[])\n",
    "drugs.fetchall()"
   ]
  },
  {
   "cell_type": "markdown",
   "metadata": {},
   "source": [
    "## **Membership Function Generator**\n",
    "\n",
    "---\n",
    "\n",
    "📋 *References*:\n",
    "\n",
    "➱ [Membership Functions](http://www.dma.fi.upm.es/recursos/aplicaciones/logica_borrosa/web/fuzzy_inferencia/funpert_en.htm)\n",
    "\n",
    "➱ [Gaussian](https://github.com/scikit-fuzzy/scikit-fuzzy/blob/eecf303b701e3efacdc9b9066207ef605d4facaa/skfuzzy/membership/generatemf.py#L65)"
   ]
  },
  {
   "cell_type": "code",
   "execution_count": 26,
   "metadata": {},
   "outputs": [],
   "source": [
    "def gaussmf(x, mean, sigma):\n",
    "    return np.exp(-((x - mean)**2.) / (2 * sigma**2.))"
   ]
  },
  {
   "cell_type": "markdown",
   "metadata": {},
   "source": [
    "## **Normalizing Universe Range**"
   ]
  },
  {
   "cell_type": "code",
   "execution_count": 47,
   "metadata": {},
   "outputs": [],
   "source": [
    "\n",
    "scaler = MinMaxScaler()\n",
    "universe = scaler.fit_transform(np.arange(0, 101, 1).reshape(-1, 1)).reshape(1, -1)[0]"
   ]
  },
  {
   "cell_type": "markdown",
   "metadata": {},
   "source": [
    "## **Antecedent - Current Drugs**"
   ]
  },
  {
   "cell_type": "code",
   "execution_count": 35,
   "metadata": {},
   "outputs": [
    {
     "data": {
      "text/plain": [
       "[<matplotlib.lines.Line2D at 0x7fce0761a0a0>]"
      ]
     },
     "execution_count": 35,
     "metadata": {},
     "output_type": "execute_result"
    },
    {
     "data": {
      "image/png": "[encoded data removed]",
      "text/plain": [
       "<Figure size 432x288 with 1 Axes>"
      ]
     },
     "metadata": {},
     "output_type": "display_data"
    }
   ],
   "source": [
    "\n",
    "X = {\"low\": None, \"medium\": None, \"high\": None}\n",
    "\n",
    "X_ranges = [\n",
    "                {\"universe\": universe[0:36], \"mf\": None},  # low\n",
    "                {\"universe\": universe[30:51], \"mf\": None}, # medium\n",
    "                {\"universe\": universe[45:101], \"mf\": None} # high\n",
    "           ]\n",
    "\n",
    "\n",
    "# -------------------------------\n",
    "# generating membership functions\n",
    "# -------------------------------\n",
    "\n",
    "\n",
    "# generating mf for low fuzzy set\n",
    "X_ranges[0][\"mf\"] = gaussmf(\n",
    "                X_ranges[0][\"universe\"], # independent variable - universe of low fuzzy set\n",
    "                np.mean(X_ranges[0][\"universe\"]), # mean of universe of low fuzzy set\n",
    "                np.std(X_ranges[0][\"universe\"]) # std of universe of low fuzzy set\n",
    "            )\n",
    "\n",
    "\n",
    "\n",
    "# generating mf for medium fuzzy set\n",
    "X_ranges[1][\"mf\"] = gaussmf(\n",
    "                X_ranges[1][\"universe\"], # independent variable - universe of medium fuzzy set\n",
    "                np.mean(X_ranges[1][\"universe\"]), # mean of universe of medium fuzzy set\n",
    "                np.std(X_ranges[1][\"universe\"]) # std of universe of medium fuzzy set\n",
    "            )\n",
    "\n",
    "\n",
    "# generating mf for high fuzzy set\n",
    "X_ranges[2][\"mf\"] = gaussmf(\n",
    "                X_ranges[2][\"universe\"], # independent variable - universe of high fuzzy set\n",
    "                np.mean(X_ranges[2][\"universe\"]), # mean of universe of high fuzzy set\n",
    "                np.std(X_ranges[2][\"universe\"]) # std of universe of high fuzzy set\n",
    "            )\n",
    "\n",
    "\n",
    "\n",
    "X[\"low\"]    = X_ranges[0]\n",
    "X[\"medium\"] = X_ranges[1]\n",
    "X[\"high\"]   = X_ranges[2]\n",
    "\n",
    "\n",
    "# -----------------------------\n",
    "# plotting membership functions\n",
    "# -----------------------------\n",
    "\n",
    "plt.plot(X[\"low\"][\"universe\"], X[\"low\"][\"mf\"])\n",
    "plt.plot(X[\"medium\"][\"universe\"], X[\"medium\"][\"mf\"])\n",
    "plt.plot(X[\"high\"][\"universe\"], X[\"high\"][\"mf\"])"
   ]
  },
  {
   "cell_type": "markdown",
   "metadata": {},
   "source": [
    "## **Antecedent - Drugs Sales over the Past Month**"
   ]
  },
  {
   "cell_type": "code",
   "execution_count": 36,
   "metadata": {},
   "outputs": [
    {
     "data": {
      "text/plain": [
       "[<matplotlib.lines.Line2D at 0x7fce07609eb0>]"
      ]
     },
     "execution_count": 36,
     "metadata": {},
     "output_type": "execute_result"
    },
    {
     "data": {
      "image/png": "[encoded data removed]",
      "text/plain": [
       "<Figure size 432x288 with 1 Axes>"
      ]
     },
     "metadata": {},
     "output_type": "display_data"
    }
   ],
   "source": [
    "\n",
    "Y = {\"very_few\": None, \"few\": None, \"medium\": None, \"many\": None, \"alot\": None}\n",
    "\n",
    "Y_ranges = [\n",
    "                {\"universe\": universe[0:21], \"mf\": None},  # very_few\n",
    "                {\"universe\": universe[15:36], \"mf\": None}, # few\n",
    "                {\"universe\": universe[30:51], \"mf\": None}, # medium\n",
    "                {\"universe\": universe[45:66], \"mf\": None}, # many\n",
    "                {\"universe\": universe[60:101], \"mf\": None} # alot\n",
    "           ]\n",
    "\n",
    "\n",
    "\n",
    "# -------------------------------\n",
    "# generating membership functions\n",
    "# -------------------------------\n",
    "\n",
    "\n",
    "# generating mf for very_few fuzzy set\n",
    "Y_ranges[0][\"mf\"] = gaussmf(\n",
    "                Y_ranges[0][\"universe\"], # independent variable - universe of very_few fuzzy set\n",
    "                np.mean(Y_ranges[0][\"universe\"]), # mean of universe of very_few fuzzy set\n",
    "                np.std(Y_ranges[0][\"universe\"]) # std of universe of very_few fuzzy set\n",
    "            )\n",
    "\n",
    "\n",
    "\n",
    "# generating mf for few fuzzy set\n",
    "Y_ranges[1][\"mf\"] = gaussmf( \n",
    "                Y_ranges[1][\"universe\"], # independent variable - universe of few fuzzy set\n",
    "                np.mean(Y_ranges[1][\"universe\"]), # mean of universe of few fuzzy set\n",
    "                np.std(Y_ranges[1][\"universe\"]) # std of universe of few fuzzy set\n",
    "            )\n",
    "\n",
    "\n",
    "\n",
    "# generating mf for medium fuzzy set\n",
    "Y_ranges[2][\"mf\"] = gaussmf(\n",
    "                Y_ranges[2][\"universe\"], # independent variable - universe of medium fuzzy set\n",
    "                np.mean(Y_ranges[2][\"universe\"]), # mean of universe of medium fuzzy set\n",
    "                np.std(Y_ranges[2][\"universe\"]) # std of universe of medium fuzzy set              \n",
    "            )\n",
    "\n",
    "\n",
    "\n",
    "# generating mf for many fuzzy set\n",
    "Y_ranges[3][\"mf\"] = gaussmf(\n",
    "                Y_ranges[3][\"universe\"], # independent variable - universe of many fuzzy set\n",
    "                np.mean(Y_ranges[3][\"universe\"]), # mean of universe of many fuzzy set\n",
    "                np.std(Y_ranges[3][\"universe\"]) # std of universe of many fuzzy set\n",
    "            )\n",
    "\n",
    "    \n",
    "    \n",
    "\n",
    "# generating mf for alot fuzzy set\n",
    "Y_ranges[4][\"mf\"] = gaussmf(\n",
    "                Y_ranges[4][\"universe\"], # independent variable - universe of alot fuzzy set\n",
    "                np.mean(Y_ranges[4][\"universe\"]), # mean of universe of alot fuzzy set\n",
    "                np.std(Y_ranges[4][\"universe\"]) # std of universe of alot fuzzy set\n",
    "            )\n",
    "\n",
    "\n",
    "\n",
    "\n",
    "Y[\"very_few\"] = Y_ranges[0]\n",
    "Y[\"few\"]      = Y_ranges[1]\n",
    "Y[\"medium\"]   = Y_ranges[2]\n",
    "Y[\"many\"]     = Y_ranges[3]\n",
    "Y[\"alot\"]     = Y_ranges[4]\n",
    "\n",
    "\n",
    "\n",
    "\n",
    "# -----------------------------\n",
    "# plotting membership functions\n",
    "# -----------------------------\n",
    "\n",
    "plt.plot(Y[\"very_few\"][\"universe\"], Y[\"very_few\"][\"mf\"])\n",
    "plt.plot(Y[\"few\"][\"universe\"], Y[\"few\"][\"mf\"])\n",
    "plt.plot(Y[\"medium\"][\"universe\"], Y[\"medium\"][\"mf\"])\n",
    "plt.plot(Y[\"many\"][\"universe\"], Y[\"many\"][\"mf\"])\n",
    "plt.plot(Y[\"alot\"][\"universe\"], Y[\"alot\"][\"mf\"])\n"
   ]
  },
  {
   "cell_type": "markdown",
   "metadata": {},
   "source": [
    "## **Antecedent - Drugs Sales over the Past Years**"
   ]
  },
  {
   "cell_type": "code",
   "execution_count": 37,
   "metadata": {},
   "outputs": [
    {
     "data": {
      "text/plain": [
       "[<matplotlib.lines.Line2D at 0x7fce0757e550>]"
      ]
     },
     "execution_count": 37,
     "metadata": {},
     "output_type": "execute_result"
    },
    {
     "data": {
      "image/png": "[encoded data removed]",
      "text/plain": [
       "<Figure size 432x288 with 1 Axes>"
      ]
     },
     "metadata": {},
     "output_type": "display_data"
    }
   ],
   "source": [
    "\n",
    "Z = {\"very_few\": None, \"few\": None, \"medium\": None, \"many\": None, \"alot\": None}\n",
    "\n",
    "Z_ranges = [\n",
    "                {\"universe\": universe[0:21], \"mf\": None},  # very_few\n",
    "                {\"universe\": universe[15:36], \"mf\": None}, # few\n",
    "                {\"universe\": universe[30:51], \"mf\": None}, # medium\n",
    "                {\"universe\": universe[45:66], \"mf\": None}, # many\n",
    "                {\"universe\": universe[60:101], \"mf\": None} # alot\n",
    "           ]\n",
    "\n",
    "\n",
    "\n",
    "# -------------------------------\n",
    "# generating membership functions\n",
    "# -------------------------------\n",
    "\n",
    "\n",
    "# generating mf for very_few fuzzy set\n",
    "Z_ranges[0][\"mf\"] = gaussmf(\n",
    "                Z_ranges[0][\"universe\"], # independent variable - universe of very_few fuzzy set\n",
    "                np.mean(Z_ranges[0][\"universe\"]), # mean of universe of very_few fuzzy set\n",
    "                np.std(Z_ranges[0][\"universe\"]) # std of universe of very_few fuzzy set\n",
    "            )\n",
    "\n",
    "\n",
    "\n",
    "# generating mf for few fuzzy set\n",
    "Z_ranges[1][\"mf\"] = gaussmf( \n",
    "                Z_ranges[1][\"universe\"], # independent variable - universe of few fuzzy set\n",
    "                np.mean(Z_ranges[1][\"universe\"]), # mean of universe of few fuzzy set\n",
    "                np.std(Z_ranges[1][\"universe\"]) # std of universe of few fuzzy set\n",
    "            )\n",
    "\n",
    "\n",
    "\n",
    "# generating mf for medium fuzzy set\n",
    "Z_ranges[2][\"mf\"] = gaussmf(\n",
    "                Z_ranges[2][\"universe\"], # independent variable - universe of medium fuzzy set\n",
    "                np.mean(Z_ranges[2][\"universe\"]), # mean of universe of medium fuzzy set\n",
    "                np.std(Z_ranges[2][\"universe\"]) # std of universe of medium fuzzy set              \n",
    "            )\n",
    "\n",
    "\n",
    "\n",
    "# generating mf for many fuzzy set\n",
    "Z_ranges[3][\"mf\"] = gaussmf(\n",
    "                Z_ranges[3][\"universe\"], # independent variable - universe of many fuzzy set\n",
    "                np.mean(Z_ranges[3][\"universe\"]), # mean of universe of many fuzzy set\n",
    "                np.std(Z_ranges[3][\"universe\"]) # std of universe of many fuzzy set\n",
    "            )\n",
    "\n",
    "    \n",
    "    \n",
    "\n",
    "# generating mf for alot fuzzy set\n",
    "Z_ranges[4][\"mf\"] = gaussmf(\n",
    "                Z_ranges[4][\"universe\"], # independent variable - universe of alot fuzzy set\n",
    "                np.mean(Z_ranges[4][\"universe\"]), # mean of universe of alot fuzzy set\n",
    "                np.std(Z_ranges[4][\"universe\"]) # std of universe of alot fuzzy set\n",
    "            )\n",
    "\n",
    "\n",
    "\n",
    "\n",
    "Z[\"very_few\"] = Z_ranges[0]\n",
    "Z[\"few\"]      = Z_ranges[1]\n",
    "Z[\"medium\"]   = Z_ranges[2]\n",
    "Z[\"many\"]     = Z_ranges[3]\n",
    "Z[\"alot\"]     = Z_ranges[4]\n",
    "\n",
    "\n",
    "\n",
    "\n",
    "# -----------------------------\n",
    "# plotting membership functions\n",
    "# -----------------------------\n",
    "\n",
    "plt.plot(Z[\"very_few\"][\"universe\"], Z[\"very_few\"][\"mf\"])\n",
    "plt.plot(Z[\"few\"][\"universe\"], Z[\"few\"][\"mf\"])\n",
    "plt.plot(Z[\"medium\"][\"universe\"], Z[\"medium\"][\"mf\"])\n",
    "plt.plot(Z[\"many\"][\"universe\"], Z[\"many\"][\"mf\"])\n",
    "plt.plot(Z[\"alot\"][\"universe\"], Z[\"alot\"][\"mf\"])\n"
   ]
  },
  {
   "cell_type": "markdown",
   "metadata": {},
   "source": [
    "## **Consequent - Amount of Order**"
   ]
  },
  {
   "cell_type": "code",
   "execution_count": 38,
   "metadata": {},
   "outputs": [
    {
     "data": {
      "text/plain": [
       "[<matplotlib.lines.Line2D at 0x7fce074e1130>]"
      ]
     },
     "execution_count": 38,
     "metadata": {},
     "output_type": "execute_result"
    },
    {
     "data": {
      "image/png": "[encoded data removed]",
      "text/plain": [
       "<Figure size 432x288 with 1 Axes>"
      ]
     },
     "metadata": {},
     "output_type": "display_data"
    }
   ],
   "source": [
    "\n",
    "W = {\"low\": None, \"medium\": None, \"high\": None}\n",
    "\n",
    "W_ranges = [\n",
    "                {\"universe\": universe[0:36], \"mf\": None},  # low\n",
    "                {\"universe\": universe[30:51], \"mf\": None}, # medium\n",
    "                {\"universe\": universe[45:101], \"mf\": None} # high\n",
    "           ]\n",
    "\n",
    "\n",
    "# -------------------------------\n",
    "# generating membership functions\n",
    "# -------------------------------\n",
    "\n",
    "\n",
    "# generating mf for low fuzzy set\n",
    "W_ranges[0][\"mf\"] = gaussmf(\n",
    "                W_ranges[0][\"universe\"], # independent variable - universe of low fuzzy set\n",
    "                np.mean(W_ranges[0][\"universe\"]), # mean of universe of low fuzzy set\n",
    "                np.std(W_ranges[0][\"universe\"]) # std of universe of low fuzzy set\n",
    "            )\n",
    "\n",
    "\n",
    "\n",
    "# generating mf for medium fuzzy set\n",
    "W_ranges[1][\"mf\"] = gaussmf(\n",
    "                W_ranges[1][\"universe\"], # independent variable - universe of medium fuzzy set\n",
    "                np.mean(W_ranges[1][\"universe\"]), # mean of universe of medium fuzzy set\n",
    "                np.std(W_ranges[1][\"universe\"]) # std of universe of medium fuzzy set\n",
    "            )\n",
    "\n",
    "\n",
    "# generating mf for high fuzzy set\n",
    "W_ranges[2][\"mf\"] = gaussmf(\n",
    "                W_ranges[2][\"universe\"], # independent variable - universe of high fuzzy set\n",
    "                np.mean(W_ranges[2][\"universe\"]), # mean of universe of high fuzzy set\n",
    "                np.std(W_ranges[2][\"universe\"]) # std of universe of high fuzzy set\n",
    "            )\n",
    "\n",
    "\n",
    "\n",
    "W[\"low\"]    = W_ranges[0]\n",
    "W[\"medium\"] = W_ranges[1]\n",
    "W[\"high\"]   = W_ranges[2]\n",
    "\n",
    "\n",
    "# -----------------------------\n",
    "# plotting membership functions\n",
    "# -----------------------------\n",
    "\n",
    "plt.plot(W[\"low\"][\"universe\"], W[\"low\"][\"mf\"])\n",
    "plt.plot(W[\"medium\"][\"universe\"], W[\"medium\"][\"mf\"])\n",
    "plt.plot(W[\"high\"][\"universe\"], W[\"high\"][\"mf\"])\n",
    "\n",
    "\n"
   ]
  },
  {
   "cell_type": "markdown",
   "metadata": {},
   "source": [
    "## **Rule Class - Fuzzy Rules Object**"
   ]
  },
  {
   "cell_type": "code",
   "execution_count": 39,
   "metadata": {},
   "outputs": [],
   "source": [
    "\n",
    "class Rule:\n",
    "    def __init__(self, left_c=None, operator=\"and\", right_c=None, _then=None):\n",
    "        self.left_c   = left_c\n",
    "        self.operator = operator\n",
    "        self.right_c  = right_c\n",
    "        self._then = _then\n",
    "        \n",
    "        "
   ]
  },
  {
   "cell_type": "markdown",
   "metadata": {},
   "source": [
    "## **Rules - Drugs Sales over the Past Month**"
   ]
  },
  {
   "cell_type": "code",
   "execution_count": 40,
   "metadata": {},
   "outputs": [],
   "source": [
    "\n",
    "month_rules = []\n",
    "\n",
    "month_rules.append(Rule(left_c=Y[\"alot\"], operator=\"and\", right_c=X[\"low\"],    _then=\"high\"))\n",
    "month_rules.append(Rule(left_c=Y[\"alot\"], operator=\"and\", right_c=X[\"medium\"], _then=\"high\"))\n",
    "month_rules.append(Rule(left_c=Y[\"alot\"], operator=\"and\", right_c=X[\"high\"],   _then=\"high\"))\n",
    "\n",
    "month_rules.append(Rule(left_c=Y[\"many\"], operator=\"and\", right_c=X[\"low\"],    _then=\"high\"))\n",
    "month_rules.append(Rule(left_c=Y[\"many\"], operator=\"and\", right_c=X[\"medium\"], _then=\"high\"))\n",
    "month_rules.append(Rule(left_c=Y[\"many\"], operator=\"and\", right_c=X[\"high\"],   _then=\"medium\"))\n",
    "\n",
    "month_rules.append(Rule(left_c=Y[\"medium\"], operator=\"and\", right_c=X[\"low\"],    _then=\"high\"))\n",
    "month_rules.append(Rule(left_c=Y[\"medium\"], operator=\"and\", right_c=X[\"medium\"], _then=\"medium\"))\n",
    "month_rules.append(Rule(left_c=Y[\"medium\"], operator=\"and\", right_c=X[\"high\"],   _then=\"low\"))\n",
    "\n",
    "month_rules.append(Rule(left_c=Y[\"few\"], operator=\"and\", right_c=X[\"low\"],    _then=\"medium\"))\n",
    "month_rules.append(Rule(left_c=Y[\"few\"], operator=\"and\", right_c=X[\"medium\"], _then=\"low\"))\n",
    "month_rules.append(Rule(left_c=Y[\"few\"], operator=\"and\", right_c=X[\"high\"],   _then=\"low\"))\n",
    "\n",
    "month_rules.append(Rule(left_c=Y[\"very_few\"], operator=\"and\", right_c=X[\"low\"],    _then=\"low\"))\n",
    "month_rules.append(Rule(left_c=Y[\"very_few\"], operator=\"and\", right_c=X[\"medium\"], _then=\"low\"))\n",
    "month_rules.append(Rule(left_c=Y[\"very_few\"], operator=\"and\", right_c=X[\"high\"],   _then=\"low\"))\n",
    "\n"
   ]
  },
  {
   "cell_type": "markdown",
   "metadata": {},
   "source": [
    "## **Rules - Drugs Sales over the Past Years Rules**"
   ]
  },
  {
   "cell_type": "code",
   "execution_count": 41,
   "metadata": {},
   "outputs": [],
   "source": [
    " \n",
    "years_rules = []\n",
    "\n",
    "years_rules.append(Rule(left_c=Z[\"alot\"], operator=\"and\", right_c=X[\"low\"],    _then=\"high\"))\n",
    "years_rules.append(Rule(left_c=Z[\"alot\"], operator=\"and\", right_c=X[\"medium\"], _then=\"high\"))\n",
    "years_rules.append(Rule(left_c=Z[\"alot\"], operator=\"and\", right_c=X[\"high\"],   _then=\"high\"))\n",
    "\n",
    "years_rules.append(Rule(left_c=Z[\"many\"], operator=\"and\", right_c=X[\"low\"],    _then=\"high\"))\n",
    "years_rules.append(Rule(left_c=Z[\"many\"], operator=\"and\", right_c=X[\"medium\"], _then=\"high\"))\n",
    "years_rules.append(Rule(left_c=Z[\"many\"], operator=\"and\", right_c=X[\"high\"],   _then=\"medium\"))\n",
    "\n",
    "years_rules.append(Rule(left_c=Z[\"medium\"], operator=\"and\", right_c=X[\"low\"],    _then=\"high\"))\n",
    "years_rules.append(Rule(left_c=Z[\"medium\"], operator=\"and\", right_c=X[\"medium\"], _then=\"medium\"))\n",
    "years_rules.append(Rule(left_c=Z[\"medium\"], operator=\"and\", right_c=X[\"high\"],   _then=\"low\"))\n",
    "\n",
    "years_rules.append(Rule(left_c=Z[\"few\"], operator=\"and\", right_c=X[\"low\"],    _then=\"medium\"))\n",
    "years_rules.append(Rule(left_c=Z[\"few\"], operator=\"and\", right_c=X[\"medium\"], _then=\"low\"))\n",
    "years_rules.append(Rule(left_c=Z[\"few\"], operator=\"and\", right_c=X[\"high\"],   _then=\"low\"))\n",
    "\n",
    "years_rules.append(Rule(left_c=Z[\"very_few\"], operator=\"and\", right_c=X[\"low\"],    _then=\"low\"))\n",
    "years_rules.append(Rule(left_c=Z[\"very_few\"], operator=\"and\", right_c=X[\"medium\"], _then=\"low\"))\n",
    "years_rules.append(Rule(left_c=Z[\"very_few\"], operator=\"and\", right_c=X[\"high\"],   _then=\"low\"))\n",
    "\n"
   ]
  },
  {
   "cell_type": "markdown",
   "metadata": {},
   "source": [
    "## **Defuzzification Process**"
   ]
  },
  {
   "cell_type": "code",
   "execution_count": 46,
   "metadata": {},
   "outputs": [
    {
     "name": "stdout",
     "output_type": "stream",
     "text": [
      "[<__main__.Rule object at 0x7fce074bbb50>, <__main__.Rule object at 0x7fce074bbbb0>, <__main__.Rule object at 0x7fce074bbc70>, <__main__.Rule object at 0x7fce074bbbe0>, <__main__.Rule object at 0x7fce074bbc10>, <__main__.Rule object at 0x7fce074bbca0>, <__main__.Rule object at 0x7fce074bbd00>, <__main__.Rule object at 0x7fce074bbd30>, <__main__.Rule object at 0x7fce074bbd90>, <__main__.Rule object at 0x7fce074bbdf0>, <__main__.Rule object at 0x7fce074bbe50>, <__main__.Rule object at 0x7fce074bbeb0>, <__main__.Rule object at 0x7fce074bbf70>, <__main__.Rule object at 0x7fce074bbfa0>, <__main__.Rule object at 0x7fce074bb9d0>]\n",
      "\n",
      "[<__main__.Rule object at 0x7fce074bc0d0>, <__main__.Rule object at 0x7fce074bc160>, <__main__.Rule object at 0x7fce074bc1f0>, <__main__.Rule object at 0x7fce074bc130>, <__main__.Rule object at 0x7fce074bc190>, <__main__.Rule object at 0x7fce074bc220>, <__main__.Rule object at 0x7fce074bc280>, <__main__.Rule object at 0x7fce074bc2e0>, <__main__.Rule object at 0x7fce074bc340>, <__main__.Rule object at 0x7fce074bc3d0>, <__main__.Rule object at 0x7fce074bc460>, <__main__.Rule object at 0x7fce074bc4c0>, <__main__.Rule object at 0x7fce074bc520>, <__main__.Rule object at 0x7fce074bc580>, <__main__.Rule object at 0x7fce074bc5e0>]\n"
     ]
    }
   ],
   "source": [
    "print(month_rules)\n",
    "print()\n",
    "print(years_rules)\n"
   ]
  }
 ],
 "metadata": {
  "kernelspec": {
   "display_name": "Python 3",
   "language": "python",
   "name": "python3"
  },
  "language_info": {
   "codemirror_mode": {
    "name": "ipython",
    "version": 3
   },
   "file_extension": ".py",
   "mimetype": "text/x-python",
   "name": "python",
   "nbconvert_exporter": "python",
   "pygments_lexer": "ipython3",
   "version": "3.8.5"
  }
 },
 "nbformat": 4,
 "nbformat_minor": 4
}
