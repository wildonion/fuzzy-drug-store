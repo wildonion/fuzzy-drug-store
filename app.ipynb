{
 "cells": [
  {
   "cell_type": "code",
   "execution_count": 1,
   "metadata": {},
   "outputs": [],
   "source": [
    "import matplotlib.pyplot as plt\n",
    "import numpy as np\n",
    "from db import init"
   ]
  },
  {
   "cell_type": "code",
   "execution_count": 2,
   "metadata": {},
   "outputs": [
    {
     "data": {
      "text/plain": [
       "<sqlite3.Cursor at 0x7f5e85859e30>"
      ]
     },
     "execution_count": 2,
     "metadata": {},
     "output_type": "execute_result"
    }
   ],
   "source": [
    "db = init()\n",
    "# q = \"INSERT INTO stocks VALUES (?, ?, ?, ?)\" # v = ['2006-01-05', 'BUY', 'RHAT', 100,35.14]\n",
    "q = \"CREATE TABLE IF NOT EXISTS current_drugs (date text, trans text, symbol text, qty real, price real)\"\n",
    "db.query(q,[])\n"
   ]
  },
  {
   "cell_type": "code",
   "execution_count": 3,
   "metadata": {},
   "outputs": [],
   "source": [
    "# https://pythonhosted.org/scikit-fuzzy/auto_examples/plot_tipping_problem_newapi.html\n",
    "\n",
    "X = {\"low\": np.arange(0, 36, 1), \"medium\": np.arange(30, 51, 1), \"high\": np.arange(45, 101, 1)} # current drugs\n",
    "Y = {\"very_few\": np.arange(0, 21, 1), \"few\": np.arange(15, 36, 1), \"medium\": np.arange(30, 51, 1), \n",
    "     \"many\": np.arange(45, 66, 1), \"a_lot\": np.arange(60, 101, 1)} # drug sales over the past month\n",
    "Z = {\"very_few\": np.arange(0, 21, 1), \"few\": np.arange(15, 36, 1), \"medium\": np.arange(30, 51, 1), \n",
    "     \"many\": np.arange(45, 66, 1), \"a_lot\": np.arange(60, 101, 1)} # drug sales over the past years"
   ]
  }
 ],
 "metadata": {
  "kernelspec": {
   "display_name": "Python 3",
   "language": "python",
   "name": "python3"
  },
  "language_info": {
   "codemirror_mode": {
    "name": "ipython",
    "version": 3
   },
   "file_extension": ".py",
   "mimetype": "text/x-python",
   "name": "python",
   "nbconvert_exporter": "python",
   "pygments_lexer": "ipython3",
   "version": "3.8.5"
  }
 },
 "nbformat": 4,
 "nbformat_minor": 4
}
